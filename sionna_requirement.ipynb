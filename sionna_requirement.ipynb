{
  "nbformat": 4,
  "nbformat_minor": 0,
  "metadata": {
    "colab": {
      "provenance": [],
      "authorship_tag": "ABX9TyMc/KugeFtHpcWwWJsgAuPY",
      "include_colab_link": true
    },
    "kernelspec": {
      "name": "python3",
      "display_name": "Python 3"
    },
    "language_info": {
      "name": "python"
    },
    "accelerator": "GPU",
    "gpuClass": "standard"
  },
  "cells": [
    {
      "cell_type": "markdown",
      "metadata": {
        "id": "view-in-github",
        "colab_type": "text"
      },
      "source": [
        "<a href=\"https://colab.research.google.com/github/subharthibanerjee/1806/blob/master/sionna_requirement.ipynb\" target=\"_parent\"><img src=\"https://colab.research.google.com/assets/colab-badge.svg\" alt=\"Open In Colab\"/></a>"
      ]
    },
    {
      "cell_type": "code",
      "execution_count": 2,
      "metadata": {
        "id": "xUqAxyV6OF8Y"
      },
      "outputs": [],
      "source": [
        "import numpy as np\n",
        "import tensorflow as tf\n",
        "\n",
        "# Import Sionna\n",
        "try:\n",
        "    import sionna\n",
        "except ImportError as e:\n",
        "    # Install Sionna if package is not already installed\n",
        "    import os\n",
        "    os.system(\"pip install sionna\")\n",
        "    import sionna"
      ]
    },
    {
      "cell_type": "code",
      "source": [],
      "metadata": {
        "id": "aAoEXNOKPLBO"
      },
      "execution_count": null,
      "outputs": []
    },
    {
      "cell_type": "code",
      "source": [
        "gpus = tf.config.list_physical_devices('GPU')\n",
        "print('Number of GPUs available :', len(gpus))\n",
        "if gpus:\n",
        "    gpu_num = 0 # Index of the GPU to be used\n",
        "    try:\n",
        "        #tf.config.set_visible_devices([], 'GPU')\n",
        "        tf.config.set_visible_devices(gpus[gpu_num], 'GPU')\n",
        "        print('Only GPU number', gpu_num, 'used.')\n",
        "        tf.config.experimental.set_memory_growth(gpus[gpu_num], True)\n",
        "    except RuntimeError as e:\n",
        "        print(e)"
      ],
      "metadata": {
        "colab": {
          "base_uri": "https://localhost:8080/"
        },
        "id": "sysGbEC8OZN3",
        "outputId": "b22ee01a-30cb-48e3-8349-e276f29ff05e"
      },
      "execution_count": 3,
      "outputs": [
        {
          "output_type": "stream",
          "name": "stdout",
          "text": [
            "Number of GPUs available : 1\n",
            "Only GPU number 0 used.\n"
          ]
        }
      ]
    },
    {
      "cell_type": "code",
      "source": [
        "# probably GPU available over there working in the colab environment\n",
        "\n",
        "# IPython \"magic function\" for inline plots\n",
        "%matplotlib inline\n",
        "import matplotlib.pyplot as plt"
      ],
      "metadata": {
        "id": "lxU3pQAYPG0Q"
      },
      "execution_count": 4,
      "outputs": []
    },
    {
      "cell_type": "code",
      "source": [
        "!nvidia-smi"
      ],
      "metadata": {
        "colab": {
          "base_uri": "https://localhost:8080/"
        },
        "id": "COlohmkbP7qx",
        "outputId": "3d94f210-1cf1-4106-f971-699e00e12824"
      },
      "execution_count": 5,
      "outputs": [
        {
          "output_type": "stream",
          "name": "stdout",
          "text": [
            "Mon Oct 31 04:14:56 2022       \n",
            "+-----------------------------------------------------------------------------+\n",
            "| NVIDIA-SMI 460.32.03    Driver Version: 460.32.03    CUDA Version: 11.2     |\n",
            "|-------------------------------+----------------------+----------------------+\n",
            "| GPU  Name        Persistence-M| Bus-Id        Disp.A | Volatile Uncorr. ECC |\n",
            "| Fan  Temp  Perf  Pwr:Usage/Cap|         Memory-Usage | GPU-Util  Compute M. |\n",
            "|                               |                      |               MIG M. |\n",
            "|===============================+======================+======================|\n",
            "|   0  Tesla T4            Off  | 00000000:00:04.0 Off |                    0 |\n",
            "| N/A   39C    P8     9W /  70W |      3MiB / 15109MiB |      0%      Default |\n",
            "|                               |                      |                  N/A |\n",
            "+-------------------------------+----------------------+----------------------+\n",
            "                                                                               \n",
            "+-----------------------------------------------------------------------------+\n",
            "| Processes:                                                                  |\n",
            "|  GPU   GI   CI        PID   Type   Process name                  GPU Memory |\n",
            "|        ID   ID                                                   Usage      |\n",
            "|=============================================================================|\n",
            "|  No running processes found                                                 |\n",
            "+-----------------------------------------------------------------------------+\n"
          ]
        }
      ]
    },
    {
      "cell_type": "code",
      "source": [
        "# above -> GPU information\n",
        "# later just init the channel\n",
        "channel = sionna.channel.AWGN() # init AWGN channel layer"
      ],
      "metadata": {
        "id": "7uHe_XaxP-KO"
      },
      "execution_count": 6,
      "outputs": []
    },
    {
      "cell_type": "code",
      "source": [
        "# define transmission paramters\n",
        "\n",
        "# define a (complex-valued) tensor to be transmitted\n",
        "x = tf.constant([[0., 1.5, 1., 0.],[-1., 0., -2, 3 ]], dtype=tf.complex64)\n",
        "\n",
        "# let's have look at the shape\n",
        "print(\"Shape of x: \", x.shape)\n",
        "print(\"Values of x: \", x)\n"
      ],
      "metadata": {
        "colab": {
          "base_uri": "https://localhost:8080/"
        },
        "id": "fzvAkA5UQHKp",
        "outputId": "07629ace-dd28-466a-f8da-10a0ba283547"
      },
      "execution_count": 7,
      "outputs": [
        {
          "output_type": "stream",
          "name": "stdout",
          "text": [
            "Shape of x:  (2, 4)\n",
            "Values of x:  tf.Tensor(\n",
            "[[ 0. +0.j  1.5+0.j  1. +0.j  0. +0.j]\n",
            " [-1. +0.j  0. +0.j -2. +0.j  3. +0.j]], shape=(2, 4), dtype=complex64)\n"
          ]
        }
      ]
    },
    {
      "cell_type": "code",
      "source": [
        "ebno_db = 5\n",
        "\n",
        "# calculate noise variance from given EbNo\n",
        "no = sionna.utils.ebnodb2no(ebno_db = ebno_db,\n",
        "                            num_bits_per_symbol=2, # QPSK\n",
        "                            coderate=1) \n",
        "y = channel([x, no])\n",
        "\n",
        "print(\"Noisy symbols are: \", y)"
      ],
      "metadata": {
        "colab": {
          "base_uri": "https://localhost:8080/"
        },
        "id": "ZxuHkjExQMTv",
        "outputId": "469ddf09-6ce5-4c71-c733-e4030433300d"
      },
      "execution_count": 8,
      "outputs": [
        {
          "output_type": "stream",
          "name": "stdout",
          "text": [
            "Noisy symbols are:  tf.Tensor(\n",
            "[[ 0.0232138 -0.02759837j  1.3280628 +0.41721243j  1.3527036 -0.4068156j\n",
            "   0.33901447-0.39161706j]\n",
            " [-1.2132162 -0.16667987j -0.44880214+0.21655983j -1.917533  -0.4223001j\n",
            "   3.3523693 +0.16768077j]], shape=(2, 4), dtype=complex64)\n"
          ]
        }
      ]
    },
    {
      "cell_type": "code",
      "source": [
        "batch_size = 100 # outer level of parallelism\n",
        "num_codewords = 64 # codewords per batch sample\n",
        "info_bit_length = 500 # info bits per codeword\n",
        "\n",
        "source = sionna.utils.BinarySource() # yields random bits\n",
        "\n",
        "u = source([batch_size, num_codewords, info_bit_length]) # call the source layer\n",
        "print(\"Shape of u: \", u.shape)\n",
        "\n",
        "# initialize an CRC encoder with the standard compliant \"CRC24A\" polynomial\n",
        "encoder_crc = sionna.fec.crc.CRCEncoder(\"CRC24A\")\n",
        "decoder_crc = sionna.fec.crc.CRCDecoder(encoder_crc) # connect to encoder\n",
        "\n",
        "# add the CRC to the information bits u\n",
        "c = encoder_crc(u) # returns a list [c, crc_valid]\n",
        "print(\"Shape of c: \", c.shape)\n",
        "print(\"Processed bits: \", np.size(c.numpy()))\n",
        "\n",
        "# we can also verify the results\n",
        "# returns list of [info bits without CRC bits, indicator if CRC holds]\n",
        "u_hat, crc_valid = decoder_crc(c) \n",
        "print(\"Shape of u_hat: \", u_hat.shape)\n",
        "print(\"Shape of crc_valid: \", crc_valid.shape)\n",
        "\n",
        "print(\"Valid CRC check of first codeword: \", crc_valid.numpy()[0,0,0])\n"
      ],
      "metadata": {
        "colab": {
          "base_uri": "https://localhost:8080/"
        },
        "id": "RfIVqzHkQPp2",
        "outputId": "8e1f1116-02e7-4315-bd5b-fa893f8f7fcf"
      },
      "execution_count": 9,
      "outputs": [
        {
          "output_type": "stream",
          "name": "stdout",
          "text": [
            "Shape of u:  (100, 64, 500)\n",
            "Shape of c:  (100, 64, 524)\n",
            "Processed bits:  3353600\n",
            "Shape of u_hat:  (100, 64, 500)\n",
            "Shape of crc_valid:  (100, 64, 1)\n",
            "Valid CRC check of first codeword:  True\n"
          ]
        }
      ]
    },
    {
      "cell_type": "code",
      "source": [
        "num_users = 5\n",
        "\n",
        "u = source([batch_size, num_users, num_codewords, info_bit_length]) \n",
        "print(\"New shape of u: \", u.shape)\n",
        "\n",
        "# We can re-use the same encoder as before\n",
        "c = encoder_crc(u)\n",
        "print(\"New shape of c: \", c.shape)\n",
        "print(\"Processed bits: \", np.size(c.numpy()))"
      ],
      "metadata": {
        "colab": {
          "base_uri": "https://localhost:8080/"
        },
        "id": "NnXc7odPQcWn",
        "outputId": "ff0d4ffb-ac0b-4940-b862-2e2e62143391"
      },
      "execution_count": 10,
      "outputs": [
        {
          "output_type": "stream",
          "name": "stdout",
          "text": [
            "New shape of u:  (100, 5, 64, 500)\n",
            "New shape of c:  (100, 5, 64, 524)\n",
            "Processed bits:  16768000\n"
          ]
        }
      ]
    },
    {
      "cell_type": "code",
      "source": [
        "constellation = sionna.mapping.Constellation(\"qam\", num_bits_per_symbol=4)\n",
        "constellation.show();"
      ],
      "metadata": {
        "colab": {
          "base_uri": "https://localhost:8080/",
          "height": 458
        },
        "id": "AWSqzwGCQmAH",
        "outputId": "0e2cb15e-8045-470a-e77c-7bca05685a17"
      },
      "execution_count": 11,
      "outputs": [
        {
          "output_type": "display_data",
          "data": {
            "text/plain": [
              "<Figure size 504x504 with 1 Axes>"
            ],
            "image/png": "[encoded data removed]"
          },
          "metadata": {
            "needs_background": "light"
          }
        }
      ]
    },
    {
      "cell_type": "code",
      "source": [
        "# system parameters\n",
        "n_ldpc = 500 # LDPC codeword length \n",
        "k_ldpc = 250 # number of info bits per LDPC codeword\n",
        "coderate = k_ldpc / n_ldpc\n",
        "num_bits_per_symbol = 4 # number of bits mapped to one symbol (cf. QAM)"
      ],
      "metadata": {
        "id": "9RKTWampQpDd"
      },
      "execution_count": 12,
      "outputs": []
    },
    {
      "cell_type": "code",
      "source": [
        "demapping_method = \"app\" # try \"max-log\"\n",
        "ldpc_cn_type = \"boxplus\" # try also \"minsum\""
      ],
      "metadata": {
        "id": "izJwNq4sQvCY"
      },
      "execution_count": 13,
      "outputs": []
    },
    {
      "cell_type": "code",
      "source": [
        "binary_source = sionna.utils.BinarySource()\n",
        "encoder = sionna.fec.ldpc.encoding.LDPC5GEncoder(k_ldpc, n_ldpc)\n",
        "constellation = sionna.mapping.Constellation(\"qam\", num_bits_per_symbol)\n",
        "mapper = sionna.mapping.Mapper(constellation=constellation)\n",
        "channel = sionna.channel.AWGN()\n",
        "demapper = sionna.mapping.Demapper(demapping_method,\n",
        "                                   constellation=constellation)\n",
        "decoder = sionna.fec.ldpc.decoding.LDPC5GDecoder(encoder,\n",
        "                                                 hard_out=True, cn_type=ldpc_cn_type,\n",
        "                                                 num_iter=20)"
      ],
      "metadata": {
        "id": "Uu3yUiN9Qy8V"
      },
      "execution_count": 14,
      "outputs": []
    },
    {
      "cell_type": "code",
      "source": [
        "# simulation parameters\n",
        "batch_size = 1000\n",
        "ebno_db = 4\n",
        "\n",
        "# Generate a batch of random bit vectors\n",
        "b = binary_source([batch_size, k_ldpc])\n",
        "\n",
        "# Encode the bits using 5G LDPC code\n",
        "print(\"Shape before encoding: \", b.shape)\n",
        "c = encoder(b)\n",
        "print(\"Shape after encoding: \", c.shape)\n",
        "\n",
        "# Map bits to constellation symbols\n",
        "x = mapper(c)\n",
        "print(\"Shape after mapping: \", x.shape)\n",
        "\n",
        "# Transmit over an AWGN channel at SNR 'ebno_db'\n",
        "no = sionna.utils.ebnodb2no(ebno_db, num_bits_per_symbol, coderate)\n",
        "y = channel([x, no])\n",
        "print(\"Shape after channel: \", y.shape)\n",
        "\n",
        "# Demap to LLRs\n",
        "llr = demapper([y, no])\n",
        "print(\"Shape after demapping: \", llr.shape)\n",
        "\n",
        "# LDPC decoding using 20 BP iterations\n",
        "b_hat = decoder(llr)\n",
        "print(\"Shape after decoding: \", b_hat.shape)\n",
        "\n",
        "# calculate BERs\n",
        "c_hat = tf.cast(tf.less(0.0, llr), tf.float32) # hard-decided bits before dec.\n",
        "ber_uncoded = sionna.utils.metrics.compute_ber(c, c_hat)\n",
        "\n",
        "ber_coded = sionna.utils.metrics.compute_ber(b, b_hat)\n",
        "\n",
        "print(\"BER uncoded = {:.3f} at EbNo = {:.1f} dB\".format(ber_uncoded, ebno_db))\n",
        "print(\"BER after decoding = {:.3f} at EbNo = {:.1f} dB\".format(ber_coded, ebno_db))\n",
        "print(\"In total {} bits were simulated\".format(np.size(b.numpy())))\n"
      ],
      "metadata": {
        "colab": {
          "base_uri": "https://localhost:8080/"
        },
        "id": "ecc21XlDQ1Ej",
        "outputId": "54dd2d02-8696-44e9-8b13-287386fefb11"
      },
      "execution_count": 15,
      "outputs": [
        {
          "output_type": "stream",
          "name": "stdout",
          "text": [
            "Shape before encoding:  (1000, 250)\n",
            "Shape after encoding:  (1000, 500)\n",
            "Shape after mapping:  (1000, 125)\n",
            "Shape after channel:  (1000, 125)\n",
            "Shape after demapping:  (1000, 500)\n",
            "Shape after decoding:  (1000, 250)\n",
            "BER uncoded = 0.119 at EbNo = 4.0 dB\n",
            "BER after decoding = 0.011 at EbNo = 4.0 dB\n",
            "In total 250000 bits were simulated\n"
          ]
        }
      ]
    },
    {
      "cell_type": "code",
      "source": [
        "class e2e_model(tf.keras.Model): # inherits from keras.model\n",
        "    \"\"\"Example model for end-to-end link-level simulations.\n",
        "    \n",
        "    Parameters\n",
        "    ----------\n",
        "    params: dict\n",
        "        A dictionary defining the system parameters.\n",
        "    \n",
        "    Input\n",
        "    -----\n",
        "    batch_size: int or tf.int\n",
        "        The batch_sizeused for the simulation.\n",
        "        \n",
        "    ebno_db: float or tf.float\n",
        "        A float defining the simulation SNR.\n",
        "\n",
        "    Output\n",
        "    ------\n",
        "    (b, b_hat): \n",
        "        Tuple:\n",
        "    \n",
        "    b: tf.float32\n",
        "        A tensor of shape `[batch_size, k]` containing the transmitted\n",
        "        information bits.\n",
        "\n",
        "    b_hat: tf.float32\n",
        "        A tensor of shape `[batch_size, k]` containing the receiver's\n",
        "        estimate of the transmitted information bits.\n",
        "    \"\"\"\n",
        "    def __init__(self,\n",
        "                params):\n",
        "        super().__init__()       \n",
        "\n",
        "        \n",
        "        # Define an OFDM Resource Grid Object\n",
        "        self.rg = sionna.ofdm.ResourceGrid(\n",
        "                            num_ofdm_symbols=params[\"num_ofdm_symbols\"],\n",
        "                            fft_size=params[\"fft_size\"],\n",
        "                            subcarrier_spacing=params[\"subcarrier_spacing\"],\n",
        "                            num_tx=1,\n",
        "                            num_streams_per_tx=1,\n",
        "                            cyclic_prefix_length=params[\"cyclic_prefix_length\"],\n",
        "                            pilot_pattern=\"kronecker\",\n",
        "                            pilot_ofdm_symbol_indices=params[\"pilot_ofdm_symbol_indices\"])\n",
        "              \n",
        "        # Create a Stream Management object        \n",
        "        self.sm = sionna.mimo.StreamManagement(rx_tx_association=np.array([[1]]),\n",
        "                                               num_streams_per_tx=1)\n",
        "        \n",
        "        self.coderate = params[\"coderate\"]\n",
        "        self.num_bits_per_symbol = params[\"num_bits_per_symbol\"]\n",
        "        self.n = int(self.rg.num_data_symbols*self.num_bits_per_symbol) \n",
        "        self.k = int(self.n*coderate)         \n",
        "\n",
        "        # Init layers\n",
        "        self.binary_source = sionna.utils.BinarySource()\n",
        "        self.encoder = sionna.fec.ldpc.encoding.LDPC5GEncoder(self.k, self.n)\n",
        "        self.interleaver = sionna.fec.interleaving.RowColumnInterleaver(\n",
        "                                        row_depth=self.num_bits_per_symbol)\n",
        "        self.deinterleaver = sionna.fec.interleaving.Deinterleaver(self.interleaver)\n",
        "        self.mapper = sionna.mapping.Mapper(\"qam\", self.num_bits_per_symbol)\n",
        "        self.rg_mapper = sionna.ofdm.ResourceGridMapper(self.rg)\n",
        "        self.tdl = sionna.channel.tr38901.TDL(model=\"A\",\n",
        "                           delay_spread=params[\"delay_spread\"],\n",
        "                           carrier_frequency=params[\"carrier_frequency\"],\n",
        "                           min_speed=params[\"min_speed\"],\n",
        "                           max_speed=params[\"max_speed\"])\n",
        "        \n",
        "        self.channel = sionna.channel.OFDMChannel(self.tdl, self.rg, add_awgn=True, normalize_channel=True)\n",
        "        self.ls_est = sionna.ofdm.LSChannelEstimator(self.rg, interpolation_type=\"nn\")\n",
        "        self.lmmse_equ = sionna.ofdm.LMMSEEqualizer(self.rg, self.sm)\n",
        "        self.demapper = sionna.mapping.Demapper(params[\"demapping_method\"],\n",
        "                                                \"qam\", self.num_bits_per_symbol)\n",
        "        self.decoder = sionna.fec.ldpc.decoding.LDPC5GDecoder(self.encoder,\n",
        "                                                    hard_out=True,\n",
        "                                                    cn_type=params[\"cn_type\"],\n",
        "                                                    num_iter=params[\"bp_iter\"])\n",
        "\n",
        "        print(\"Number of pilots: {}\".format(self.rg.num_pilot_symbols))        \n",
        "        print(\"Number of data symbols: {}\".format(self.rg.num_data_symbols))\n",
        "        print(\"Number of resource elements: {}\".format(\n",
        "                                    self.rg.num_resource_elements))\n",
        "\n",
        "        print(\"Pilot overhead: {:.2f}%\".format(\n",
        "                                    self.rg.num_pilot_symbols /\n",
        "                                    self.rg.num_resource_elements*100))\n",
        "\n",
        "        print(\"Cyclic prefix overhead: {:.2f}%\".format(\n",
        "                                    params[\"cyclic_prefix_length\"] /\n",
        "                                    (params[\"cyclic_prefix_length\"]\n",
        "                                    +params[\"fft_size\"])*100))\n",
        "\n",
        "        print(\"Each frame contains {} information bits\".format(self.k))\n",
        "   \n",
        "    def call(self, batch_size, ebno_db):\n",
        "        \n",
        "        # Generate a batch of random bit vectors\n",
        "        # We need two dummy dimension representing the number of\n",
        "        # transmitters and streams per transmitter, respectively.\n",
        "        b = self.binary_source([batch_size, 1, 1, self.k])\n",
        "\n",
        "        # Encode the bits using the all-zero dummy encoder\n",
        "        c = self.encoder(b)\n",
        "\n",
        "        # Interleave the bits before mapping (BICM)\n",
        "        c_int = self.interleaver(c)\n",
        "        \n",
        "        # Map bits to constellation symbols\n",
        "        s = self.mapper(c_int)\n",
        "\n",
        "        # Map symbols onto OFDM ressource grid\n",
        "        x_rg = self.rg_mapper(s)\n",
        "\n",
        "        # Transmit over noisy multi-path channel \n",
        "        no = sionna.utils.ebnodb2no(ebno_db, self.num_bits_per_symbol, self.coderate, self.rg)\n",
        "        y = self.channel([x_rg, no]) \n",
        "        \n",
        "        # LS Channel estimation with nearest pilot interpolation\n",
        "        h_hat, err_var = self.ls_est ([y, no])\n",
        "\n",
        "        # LMMSE Equalization\n",
        "        x_hat, no_eff = self.lmmse_equ([y, h_hat, err_var, no])\n",
        "\n",
        "        # Demap to LLRs\n",
        "        llr = self.demapper([x_hat, no_eff])\n",
        "\n",
        "        # Deinterleave before decoding\n",
        "        llr_int = self.deinterleaver(llr)\n",
        "\n",
        "        # Decode\n",
        "        b_hat = self.decoder(llr_int) \n",
        "        \n",
        "        # number of simulated bits\n",
        "        nb_bits = batch_size*self.k\n",
        "        \n",
        "        # transmitted bits and the receiver's estimate after decoding\n",
        "        return b, b_hat"
      ],
      "metadata": {
        "id": "H35LIs3oRrKK"
      },
      "execution_count": 17,
      "outputs": []
    },
    {
      "cell_type": "code",
      "source": [],
      "metadata": {
        "id": "xBVLp4S3R54I"
      },
      "execution_count": null,
      "outputs": []
    },
    {
      "cell_type": "code",
      "source": [
        "sys_params = {\n",
        "    # Channel\n",
        "    \"carrier_frequency\" : 3.5e9,\n",
        "    \"delay_spread\" : 100e-9,\n",
        "    \"min_speed\" : 3,\n",
        "    \"max_speed\" : 3,\n",
        "    \"tdl_model\" : \"A\",\n",
        "\n",
        "    # OFDM\n",
        "    \"fft_size\" : 256,\n",
        "    \"subcarrier_spacing\" : 30e3,\n",
        "    \"num_ofdm_symbols\" : 14,\n",
        "    \"cyclic_prefix_length\" : 16,\n",
        "    \"pilot_ofdm_symbol_indices\" : [2, 11],\n",
        "\n",
        "    # Code & Modulation\n",
        "    \"coderate\" : 0.5,\n",
        "    \"num_bits_per_symbol\" : 4,\n",
        "    \"demapping_method\" : \"app\",\n",
        "    \"cn_type\" : \"boxplus\",\n",
        "    \"bp_iter\" : 20\n",
        "}\n"
      ],
      "metadata": {
        "id": "caGYRl0pR1sq"
      },
      "execution_count": 18,
      "outputs": []
    },
    {
      "cell_type": "code",
      "source": [
        "model = e2e_model(sys_params)"
      ],
      "metadata": {
        "colab": {
          "base_uri": "https://localhost:8080/"
        },
        "id": "pelkCEv9R6Tq",
        "outputId": "bb77b8af-789a-44a3-aace-d9959dc4dd12"
      },
      "execution_count": 19,
      "outputs": [
        {
          "output_type": "stream",
          "name": "stdout",
          "text": [
            "Number of pilots: 512\n",
            "Number of data symbols: 3072\n",
            "Number of resource elements: 3584\n",
            "Pilot overhead: 14.29%\n",
            "Cyclic prefix overhead: 5.88%\n",
            "Each frame contains 6144 information bits\n"
          ]
        }
      ]
    },
    {
      "cell_type": "code",
      "source": [
        "#simulation parameters\n",
        "ebno_db = 10\n",
        "batch_size = 200\n",
        "\n",
        "# and call the model\n",
        "b, b_hat = model(batch_size, ebno_db)\n",
        "\n",
        "ber = sionna.utils.metrics.compute_ber(b, b_hat)\n",
        "nb_bits = np.size(b.numpy())\n",
        "\n",
        "print(\"BER: {:.4} at Eb/No of {} dB and {} simulated bits\".format(ber.numpy(), ebno_db, nb_bits))\n"
      ],
      "metadata": {
        "colab": {
          "base_uri": "https://localhost:8080/"
        },
        "id": "c0qdSUsER9ry",
        "outputId": "59ffe385-4beb-4958-a5bb-fbae5f2c6f05"
      },
      "execution_count": 20,
      "outputs": [
        {
          "output_type": "stream",
          "name": "stdout",
          "text": [
            "BER: 0.004111 at Eb/No of 10 dB and 1228800 simulated bits\n"
          ]
        }
      ]
    },
    {
      "cell_type": "code",
      "source": [
        "import time # this block requires the timeit library\n",
        "\n",
        "batch_size = 200\n",
        "ebno_db = 5 # evalaute SNR point\n",
        "repetitions = 4 # throughput is averaged over multiple runs\n",
        "\n",
        "def get_throughput(batch_size, ebno_db, model, repetitions=1):\n",
        "    \"\"\" Simulate throughput in bit/s per ebno_db point.\n",
        "    \n",
        "    The results are average over `repetition` trials.\n",
        "    \n",
        "    Input\n",
        "    -----\n",
        "    batch_size: int or tf.int32\n",
        "        Batch-size for evaluation.\n",
        "\n",
        "    ebno_db: float or tf.float32\n",
        "        A tensor containing the SNR points be evaluated    \n",
        "    \n",
        "    model:\n",
        "        Function or model that yields the transmitted bits `u` and the\n",
        "        receiver's estimate `u_hat` for a given ``batch_size`` and\n",
        "        ``ebno_db``.\n",
        "        \n",
        "    repetitions: int\n",
        "        An integer defining how many trails of the throughput \n",
        "        simulation are averaged.\n",
        "    \n",
        "    \"\"\"\n",
        "\n",
        "\n",
        "    # call model once to be sure it is compile properly \n",
        "    # otherwise time to build graph is measured as well.\n",
        "    u, u_hat = model(tf.constant(batch_size, tf.int32),    \n",
        "                     tf.constant(ebno_db, tf.float32))\n",
        "\n",
        "    t_start = time.perf_counter()\n",
        "    # average over multiple runs\n",
        "    for _ in range(repetitions):\n",
        "        u, u_hat = model(tf.constant(batch_size, tf.int32),\n",
        "                            tf.constant(ebno_db, tf. float32))\n",
        "    t_stop = time.perf_counter()\n",
        "\n",
        "    # throughput in bit/s\n",
        "    throughput = np.size(u.numpy())*repetitions / (t_stop - t_start)\n",
        "\n",
        "    return throughput\n",
        "\n",
        "# eager mode - just call the model\n",
        "def run_eager(batch_size, ebno_db):\n",
        "    return model(batch_size, ebno_db)\n",
        "    \n",
        "time_eager = get_throughput(batch_size, ebno_db, run_eager, repetitions=4)\n",
        "\n",
        "# the decorator \"@tf.function\" enables the graph mode\n",
        "@tf.function\n",
        "def run_graph(batch_size, ebno_db):\n",
        "    return model(batch_size, ebno_db)\n",
        "\n",
        "time_graph = get_throughput(batch_size, ebno_db, run_graph, repetitions=4)\n",
        "\n",
        "# the decorator \"@tf.function(jit_compile=True)\" enables the graph mode with XLA\n",
        "# we need to activate the sionna.config.xla_compat feature for this to work\n",
        "sionna.config.xla_compat=True\n",
        "@tf.function(jit_compile=True)\n",
        "def run_graph_xla(batch_size, ebno_db):\n",
        "    return model(batch_size, ebno_db)\n",
        "\n",
        "time_graph_xla = get_throughput(batch_size, ebno_db, run_graph_xla, repetitions=4)\n",
        "# we deactivate the sionna.config.xla_compat so that the cell can be run mutiple times\n",
        "sionna.config.xla_compat=False\n",
        "\n",
        "print(f\"Throughput in eager execution: {time_eager/1e6:.2f} Mb/s\")\n",
        "print(f\"Throughput in graph execution: {time_graph/1e6:.2f} Mb/s\")\n",
        "print(f\"Throughput in graph execution with XLA: {time_graph_xla/1e6:.2f} Mb/s\")\n"
      ],
      "metadata": {
        "colab": {
          "base_uri": "https://localhost:8080/"
        },
        "id": "5CMVv9tcSBU5",
        "outputId": "1fabae23-2faa-41c8-c4b1-0efadcc29955"
      },
      "execution_count": 21,
      "outputs": [
        {
          "output_type": "stream",
          "name": "stderr",
          "text": [
            "WARNING:tensorflow:From /usr/local/lib/python3.7/dist-packages/tensorflow/python/util/dispatch.py:1082: calling gather (from tensorflow.python.ops.array_ops) with validate_indices is deprecated and will be removed in a future version.\n",
            "Instructions for updating:\n",
            "The `validate_indices` argument has no effect. Indices are always validated on CPU and never validated on GPU.\n"
          ]
        },
        {
          "output_type": "stream",
          "name": "stdout",
          "text": [
            "Throughput in eager execution: 0.79 Mb/s\n",
            "Throughput in graph execution: 2.08 Mb/s\n",
            "Throughput in graph execution with XLA: 15.39 Mb/s\n"
          ]
        }
      ]
    },
    {
      "cell_type": "code",
      "source": [
        "ebno_dbs = np.arange(0, 15, 1.)\n",
        "batch_size = 200 # reduce in case you receive an out-of-memory (OOM) error\n",
        "\n",
        "max_mc_iter = 1000 # max number of Monte-Carlo iterations before going to next SNR point\n",
        "num_target_block_errors = 500 # continue with next SNR point after target number of block errors\n",
        "\n",
        "# we use the built-in ber simulator function from Sionna which uses and early stop after reaching num_target_errors   \n",
        "sionna.config.xla_compat=True\n",
        "ber_mc,_ = sionna.utils.sim_ber(run_graph_xla, # you can also evaluate the model directly\n",
        "                                ebno_dbs,\n",
        "                                batch_size=batch_size, \n",
        "                                num_target_block_errors=num_target_block_errors,\n",
        "                                max_mc_iter=max_mc_iter,\n",
        "                                verbose=True) # print status and summary\n",
        "sionna.config.xla_compat=False"
      ],
      "metadata": {
        "colab": {
          "base_uri": "https://localhost:8080/"
        },
        "id": "P3W9nOeiSHLw",
        "outputId": "1bf936c3-5754-41a8-bdcd-2e6c81a72495"
      },
      "execution_count": 22,
      "outputs": [
        {
          "output_type": "stream",
          "name": "stdout",
          "text": [
            "EbNo [dB] |        BER |       BLER |  bit errors |    num bits | block errors |  num blocks | runtime [s] |    status\n",
            "---------------------------------------------------------------------------------------------------------------------------------------\n",
            "      0.0 | 3.4282e-01 | 1.0000e+00 |     1263780 |     3686400 |          600 |         600 |         0.4 |reached target block errors\n",
            "      1.0 | 3.2086e-01 | 1.0000e+00 |     1182824 |     3686400 |          600 |         600 |         0.3 |reached target block errors\n",
            "      2.0 | 2.9780e-01 | 1.0000e+00 |     1097809 |     3686400 |          600 |         600 |         0.3 |reached target block errors\n",
            "      3.0 | 2.7278e-01 | 1.0000e+00 |     1005578 |     3686400 |          600 |         600 |         0.4 |reached target block errors\n",
            "      4.0 | 2.4753e-01 | 1.0000e+00 |      912491 |     3686400 |          600 |         600 |         0.4 |reached target block errors\n",
            "      5.0 | 2.1920e-01 | 1.0000e+00 |      808067 |     3686400 |          600 |         600 |         0.2 |reached target block errors\n",
            "      6.0 | 1.8387e-01 | 1.0000e+00 |      677817 |     3686400 |          600 |         600 |         0.2 |reached target block errors\n",
            "      7.0 | 1.1753e-01 | 9.9500e-01 |      433280 |     3686400 |          597 |         600 |         0.2 |reached target block errors\n",
            "      8.0 | 4.3947e-02 | 5.0900e-01 |      270011 |     6144000 |          509 |        1000 |         0.4 |reached target block errors\n",
            "      9.0 | 1.1375e-02 | 1.3526e-01 |      265571 |    23347200 |          514 |        3800 |         1.5 |reached target block errors\n",
            "     10.0 | 3.2164e-03 | 3.5000e-02 |      284564 |    88473600 |          504 |       14400 |         5.7 |reached target block errors\n",
            "     11.0 | 9.1895e-04 | 1.0081e-02 |      280042 |   304742400 |          500 |       49600 |        19.9 |reached target block errors\n",
            "     12.0 | 2.7551e-04 | 2.7293e-03 |      310113 |  1125580800 |          500 |      183200 |        72.4 |reached target block errors\n",
            "     13.0 | 8.9166e-05 | 1.0100e-03 |      109567 |  1228800000 |          202 |      200000 |        79.0 |reached max iter       \n",
            "     14.0 | 2.8453e-05 | 2.6500e-04 |       34963 |  1228800000 |           53 |      200000 |        76.8 |reached max iter       \n"
          ]
        }
      ]
    },
    {
      "cell_type": "code",
      "source": [
        "sionna.utils.plotting.plot_ber(ebno_dbs,\n",
        "                               ber_mc,\n",
        "                               legend=\"E2E Model\",\n",
        "                               ylabel=\"Coded BER\");"
      ],
      "metadata": {
        "colab": {
          "base_uri": "https://localhost:8080/",
          "height": 656
        },
        "id": "sCA8ZvjvSOft",
        "outputId": "408fda02-5b1f-4847-dd5f-f57a3fbfb4f7"
      },
      "execution_count": 23,
      "outputs": [
        {
          "output_type": "display_data",
          "data": {
            "text/plain": [
              "<Figure size 1152x720 with 1 Axes>"
            ],
            "image/png": "[encoded data removed]"
          },
          "metadata": {
            "needs_background": "light"
          }
        }
      ]
    },
    {
      "cell_type": "code",
      "source": [],
      "metadata": {
        "id": "vzcBlV1LST7H"
      },
      "execution_count": null,
      "outputs": []
    }
  ]
}